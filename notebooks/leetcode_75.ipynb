{
 "cells": [
  {
   "cell_type": "code",
   "execution_count": 1,
   "metadata": {},
   "outputs": [],
   "source": [
    "data = [0, 1, 2, 0, 2, 1, 1, 0, 1, 0, 0, 0, 2, 2, 2, 1, 0, 1]"
   ]
  },
  {
   "cell_type": "code",
   "execution_count": 2,
   "metadata": {},
   "outputs": [],
   "source": [
    "def sortColors(s):\n",
    "    p = 0\n",
    "    zero = 0\n",
    "    two = len(s)-1\n",
    "    \n",
    "    while p < two:\n",
    "        # print(s)\n",
    "        if s[p] == 0:\n",
    "            s[zero], s[p] = s[p], s[zero]\n",
    "            p += 1\n",
    "            zero += 1\n",
    "        elif s[p] == 2:\n",
    "            s[two], s[p] = s[p], s[two]\n",
    "            two += -1\n",
    "        else:\n",
    "            p += 1\n",
    "            \n",
    "    return s"
   ]
  },
  {
   "cell_type": "code",
   "execution_count": 3,
   "metadata": {},
   "outputs": [
    {
     "data": {
      "text/plain": [
       "[0, 0, 0, 0, 0, 0, 0, 1, 1, 1, 1, 1, 1, 2, 2, 2, 2, 2]"
      ]
     },
     "execution_count": 3,
     "metadata": {},
     "output_type": "execute_result"
    }
   ],
   "source": [
    "sortColors(data)"
   ]
  }
 ],
 "metadata": {
  "kernelspec": {
   "display_name": "Python 3",
   "language": "python",
   "name": "python3"
  },
  "language_info": {
   "codemirror_mode": {
    "name": "ipython",
    "version": 3
   },
   "file_extension": ".py",
   "mimetype": "text/x-python",
   "name": "python",
   "nbconvert_exporter": "python",
   "pygments_lexer": "ipython3",
   "version": "3.6.3"
  }
 },
 "nbformat": 4,
 "nbformat_minor": 2
}
