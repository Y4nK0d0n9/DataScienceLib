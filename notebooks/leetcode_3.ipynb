{
 "cells": [
  {
   "cell_type": "code",
   "execution_count": 1,
   "metadata": {},
   "outputs": [],
   "source": [
    "data = \"aabcebojobcdaaaa\""
   ]
  },
  {
   "cell_type": "code",
   "execution_count": 2,
   "metadata": {},
   "outputs": [],
   "source": [
    "def lengthOfLongestSubstring(s):\n",
    "    freq = [False]*255\n",
    "    l = 0\n",
    "    r = 0\n",
    "    res = 1\n",
    "    \n",
    "    while r < len(s)-1:\n",
    "        # print(\"l=%s r=%s\\n\"%(s[l], s[r]))\n",
    "        if not freq[ ord(s[r+1]) ]:\n",
    "            # print(\"r->\")\n",
    "            freq[ ord(s[r]) ] = True\n",
    "            r += 1\n",
    "        else:\n",
    "            # print(\"l->\")\n",
    "            freq[ ord(s[l]) ] = False\n",
    "            l += 1\n",
    "        res = max(res, r-l+1)\n",
    "\n",
    "    return res"
   ]
  },
  {
   "cell_type": "code",
   "execution_count": 3,
   "metadata": {},
   "outputs": [
    {
     "data": {
      "text/plain": [
       "7"
      ]
     },
     "execution_count": 3,
     "metadata": {},
     "output_type": "execute_result"
    }
   ],
   "source": [
    "lengthOfLongestSubstring(data)"
   ]
  }
 ],
 "metadata": {
  "kernelspec": {
   "display_name": "Python 3",
   "language": "python",
   "name": "python3"
  },
  "language_info": {
   "codemirror_mode": {
    "name": "ipython",
    "version": 3
   },
   "file_extension": ".py",
   "mimetype": "text/x-python",
   "name": "python",
   "nbconvert_exporter": "python",
   "pygments_lexer": "ipython3",
   "version": "3.6.3"
  }
 },
 "nbformat": 4,
 "nbformat_minor": 2
}
