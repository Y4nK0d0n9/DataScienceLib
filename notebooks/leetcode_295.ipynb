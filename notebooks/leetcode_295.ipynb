{
 "cells": [
  {
   "cell_type": "code",
   "execution_count": 1,
   "metadata": {},
   "outputs": [],
   "source": [
    "import heapq"
   ]
  },
  {
   "cell_type": "code",
   "execution_count": 2,
   "metadata": {},
   "outputs": [],
   "source": [
    "data = [1, 6, 3, 5, 7, 2, 7, 9, 3, 1, 4]\n",
    "data = [1, 6, 3, 5, 2, 7, 9, 3, 1, 4]"
   ]
  },
  {
   "cell_type": "code",
   "execution_count": 3,
   "metadata": {},
   "outputs": [],
   "source": [
    "maxH = []\n",
    "minH = []\n",
    "def add(data):\n",
    "    heapq.heappush(maxH, -data)\n",
    "    heapq.heappush(minH, -heapq.heappop(maxH))\n",
    "    if len(maxH) < len(minH):\n",
    "        heapq.heappush(maxH, -heapq.heappop(minH))\n",
    "\n",
    "def midd():\n",
    "    if len(maxH) == len(minH):\n",
    "        return (-heapq.heappop(maxH) + heapq.heappop(minH))*0.5\n",
    "    else:\n",
    "        return -heapq.heappop(maxH)"
   ]
  },
  {
   "cell_type": "code",
   "execution_count": 4,
   "metadata": {},
   "outputs": [
    {
     "name": "stdout",
     "output_type": "stream",
     "text": [
      "1\n",
      "maxH:\n",
      "[-1]\n",
      "minH:\n",
      "[]\n",
      "\n",
      "\n",
      "6\n",
      "maxH:\n",
      "[-1]\n",
      "minH:\n",
      "[6]\n",
      "\n",
      "\n",
      "3\n",
      "maxH:\n",
      "[-3, -1]\n",
      "minH:\n",
      "[6]\n",
      "\n",
      "\n",
      "5\n",
      "maxH:\n",
      "[-3, -1]\n",
      "minH:\n",
      "[5, 6]\n",
      "\n",
      "\n",
      "2\n",
      "maxH:\n",
      "[-3, -1, -2]\n",
      "minH:\n",
      "[5, 6]\n",
      "\n",
      "\n",
      "7\n",
      "maxH:\n",
      "[-3, -1, -2]\n",
      "minH:\n",
      "[5, 6, 7]\n",
      "\n",
      "\n",
      "9\n",
      "maxH:\n",
      "[-5, -3, -2, -1]\n",
      "minH:\n",
      "[6, 9, 7]\n",
      "\n",
      "\n",
      "3\n",
      "maxH:\n",
      "[-3, -3, -2, -1]\n",
      "minH:\n",
      "[5, 6, 7, 9]\n",
      "\n",
      "\n",
      "1\n",
      "maxH:\n",
      "[-3, -3, -2, -1, -1]\n",
      "minH:\n",
      "[5, 6, 7, 9]\n",
      "\n",
      "\n",
      "4\n",
      "maxH:\n",
      "[-3, -3, -2, -1, -1]\n",
      "minH:\n",
      "[4, 5, 7, 9, 6]\n",
      "\n",
      "\n"
     ]
    },
    {
     "data": {
      "text/plain": [
       "3.5"
      ]
     },
     "execution_count": 4,
     "metadata": {},
     "output_type": "execute_result"
    }
   ],
   "source": [
    "for i in data:\n",
    "    add(i)\n",
    "    print(i)\n",
    "    print(\"maxH:\")\n",
    "    print(maxH)\n",
    "    print(\"minH:\")\n",
    "    print(minH)\n",
    "    print(\"\\n\")\n",
    "\n",
    "midd()"
   ]
  }
 ],
 "metadata": {
  "kernelspec": {
   "display_name": "Python 3",
   "language": "python",
   "name": "python3"
  },
  "language_info": {
   "codemirror_mode": {
    "name": "ipython",
    "version": 3
   },
   "file_extension": ".py",
   "mimetype": "text/x-python",
   "name": "python",
   "nbconvert_exporter": "python",
   "pygments_lexer": "ipython3",
   "version": "3.6.3"
  }
 },
 "nbformat": 4,
 "nbformat_minor": 2
}
